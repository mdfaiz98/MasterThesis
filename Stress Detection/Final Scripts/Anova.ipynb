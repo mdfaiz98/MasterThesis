{
 "cells": [
  {
   "cell_type": "code",
   "execution_count": null,
   "metadata": {},
   "outputs": [],
   "source": [
    "import pandas as pd\n",
    "\n",
    "# Load your data\n",
    "data = pd.read_csv('C:/Thesis-script/Data/biodata6010.csv')\n",
    "\n",
    "# Create new columns for the independent variables if needed\n",
    "data['Workspace'] = data['Experiment'].str[0]\n",
    "data['Collision_Strategy'] = data['Experiment'].str[1]\n",
    "\n",
    "\n"
   ]
  }
 ],
 "metadata": {
  "language_info": {
   "name": "python"
  }
 },
 "nbformat": 4,
 "nbformat_minor": 2
}
